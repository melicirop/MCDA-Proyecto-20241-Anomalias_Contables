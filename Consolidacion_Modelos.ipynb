{
 "cells": [
  {
   "cell_type": "markdown",
   "metadata": {},
   "source": [
    "# Consolidación de Modelos"
   ]
  },
  {
   "cell_type": "code",
   "execution_count": 1,
   "metadata": {
    "execution": {
     "iopub.execute_input": "2024-06-14T00:33:48.940477Z",
     "iopub.status.busy": "2024-06-14T00:33:48.940477Z",
     "iopub.status.idle": "2024-06-14T00:33:49.946862Z",
     "shell.execute_reply": "2024-06-14T00:33:49.946862Z"
    }
   },
   "outputs": [],
   "source": [
    "import pandas as pd\n",
    "import numpy as np\n",
    "import seaborn as sns\n",
    "import matplotlib.pyplot as plt\n",
    "import warnings\n",
    "\n",
    "# Ignorar todos los warnings\n",
    "warnings.filterwarnings(\"ignore\")"
   ]
  },
  {
   "cell_type": "code",
   "execution_count": 2,
   "metadata": {},
   "outputs": [],
   "source": [
    "base_original = pd.read_csv('query_3ec5aea3_20240410T153703.csv')"
   ]
  },
  {
   "cell_type": "code",
   "execution_count": 3,
   "metadata": {
    "execution": {
     "iopub.execute_input": "2024-06-14T00:33:49.949886Z",
     "iopub.status.busy": "2024-06-14T00:33:49.948867Z",
     "iopub.status.idle": "2024-06-14T00:33:52.002548Z",
     "shell.execute_reply": "2024-06-14T00:33:52.002548Z"
    }
   },
   "outputs": [],
   "source": [
    "#Archivos resultado distancias\n",
    "result_dist_out = pd.read_csv('outliers.csv',index_col=0)\n",
    "result_dist_no_out = pd.read_csv('base_distancia_limpia.csv',index_col=0)"
   ]
  },
  {
   "cell_type": "code",
   "execution_count": 4,
   "metadata": {
    "execution": {
     "iopub.execute_input": "2024-06-14T00:33:52.005179Z",
     "iopub.status.busy": "2024-06-14T00:33:52.005179Z",
     "iopub.status.idle": "2024-06-14T00:33:52.030081Z",
     "shell.execute_reply": "2024-06-14T00:33:52.029713Z"
    }
   },
   "outputs": [],
   "source": [
    "#Unificar archivos\n",
    "result_combined_dist = pd.concat([result_dist_out, result_dist_no_out])\n"
   ]
  },
  {
   "cell_type": "code",
   "execution_count": 5,
   "metadata": {},
   "outputs": [],
   "source": [
    "result_combined_dist = result_combined_dist[['reconfirma']]  # Seleccionar solo la columna reconfirma\n",
    "# Renombrar la columna reconfirma a Outlier_Distancias\n",
    "result_combined_dist.rename(columns={'reconfirma': 'Outlier_Distancias'}, inplace=True)"
   ]
  },
  {
   "cell_type": "code",
   "execution_count": 6,
   "metadata": {},
   "outputs": [],
   "source": [
    "# Unir los DataFrames por el índice\n",
    "base_original = base_original.join(result_combined_dist, how='left')"
   ]
  },
  {
   "cell_type": "code",
   "execution_count": 7,
   "metadata": {},
   "outputs": [],
   "source": [
    "# Reemplazar False por 'Si' y True por 'No'\n",
    "base_original['Outlier_Distancias'] = base_original['Outlier_Distancias'].map({False: 'Si', True: 'No'})\n",
    "\n",
    "# Reemplazar NaN por 'No'\n",
    "base_original['Outlier_Distancias'].fillna('No', inplace=True)"
   ]
  },
  {
   "cell_type": "code",
   "execution_count": 8,
   "metadata": {},
   "outputs": [
    {
     "data": {
      "text/plain": [
       "Outlier_Distancias\n",
       "No    594929\n",
       "Si      5844\n",
       "Name: count, dtype: int64"
      ]
     },
     "execution_count": 8,
     "metadata": {},
     "output_type": "execute_result"
    }
   ],
   "source": [
    "base_original['Outlier_Distancias'].value_counts()"
   ]
  },
  {
   "cell_type": "code",
   "execution_count": 9,
   "metadata": {
    "execution": {
     "iopub.execute_input": "2024-06-14T00:33:52.032158Z",
     "iopub.status.busy": "2024-06-14T00:33:52.032158Z",
     "iopub.status.idle": "2024-06-14T00:33:52.281272Z",
     "shell.execute_reply": "2024-06-14T00:33:52.281272Z"
    }
   },
   "outputs": [],
   "source": [
    "#Archivos resultado KNN\n",
    "result_knn_out = pd.read_csv('final_data_outliers.csv',index_col=0)\n",
    "result_knn_no_out = pd.read_csv('final_data_sin_outliers.csv',index_col=0)"
   ]
  },
  {
   "cell_type": "code",
   "execution_count": 10,
   "metadata": {
    "execution": {
     "iopub.execute_input": "2024-06-14T00:33:52.283296Z",
     "iopub.status.busy": "2024-06-14T00:33:52.283296Z",
     "iopub.status.idle": "2024-06-14T00:33:52.289819Z",
     "shell.execute_reply": "2024-06-14T00:33:52.289819Z"
    }
   },
   "outputs": [],
   "source": [
    "result_combined_knn = pd.concat([result_knn_out, result_knn_no_out])"
   ]
  },
  {
   "cell_type": "code",
   "execution_count": 11,
   "metadata": {},
   "outputs": [],
   "source": [
    "result_combined_knn = result_combined_knn[['outlier_best_knn']]  # Seleccionar solo la columna outlier_best_knn\n",
    "# Renombrar la columna outlier_best_knn a Outlier_KNN\n",
    "result_combined_knn.rename(columns={'outlier_best_knn': 'Outlier_KNN'}, inplace=True)"
   ]
  },
  {
   "cell_type": "code",
   "execution_count": 12,
   "metadata": {},
   "outputs": [],
   "source": [
    "# Unir los DataFrames por el índice\n",
    "base_original = base_original.join(result_combined_knn, how='left')"
   ]
  },
  {
   "cell_type": "code",
   "execution_count": 13,
   "metadata": {},
   "outputs": [],
   "source": [
    "# Reemplazar True por 'Si' y False por 'No'\n",
    "base_original['Outlier_KNN'] = base_original['Outlier_KNN'].map({True: 'Si', False: 'No'})\n",
    "\n",
    "# Reemplazar NaN por 'No'\n",
    "base_original['Outlier_KNN'].fillna('No', inplace=True)"
   ]
  },
  {
   "cell_type": "code",
   "execution_count": 14,
   "metadata": {
    "execution": {
     "iopub.execute_input": "2024-06-14T00:33:52.392479Z",
     "iopub.status.busy": "2024-06-14T00:33:52.392479Z",
     "iopub.status.idle": "2024-06-14T00:33:52.440965Z",
     "shell.execute_reply": "2024-06-14T00:33:52.439920Z"
    }
   },
   "outputs": [],
   "source": [
    "#Identificar atipicos en ambos modelos\n",
    "atipicos_urgen = base_original[(base_original['Outlier_Distancias'] == 'Si') & (base_original['Outlier_KNN'] == 'Si')]"
   ]
  },
  {
   "cell_type": "code",
   "execution_count": 15,
   "metadata": {
    "execution": {
     "iopub.execute_input": "2024-06-14T00:33:52.443926Z",
     "iopub.status.busy": "2024-06-14T00:33:52.443926Z",
     "iopub.status.idle": "2024-06-14T00:33:52.523971Z",
     "shell.execute_reply": "2024-06-14T00:33:52.523971Z"
    }
   },
   "outputs": [],
   "source": [
    "conditions = [\n",
    "    (base_original['Outlier_Distancias'] == 'Si') & (base_original['Outlier_KNN'] == 'Si'),\n",
    "    (base_original['Outlier_Distancias'] == 'Si'),\n",
    "    (base_original['Outlier_KNN'] == 'Si')\n",
    "]"
   ]
  },
  {
   "cell_type": "code",
   "execution_count": 16,
   "metadata": {
    "execution": {
     "iopub.execute_input": "2024-06-14T00:33:52.526487Z",
     "iopub.status.busy": "2024-06-14T00:33:52.526487Z",
     "iopub.status.idle": "2024-06-14T00:33:52.528635Z",
     "shell.execute_reply": "2024-06-14T00:33:52.528635Z"
    }
   },
   "outputs": [],
   "source": [
    "# Definir los valores correspondientes a las condiciones\n",
    "values = ['Outlier urgente', 'Outlier importante', 'Otro outlier']\n"
   ]
  },
  {
   "cell_type": "code",
   "execution_count": 17,
   "metadata": {
    "execution": {
     "iopub.execute_input": "2024-06-14T00:33:52.530639Z",
     "iopub.status.busy": "2024-06-14T00:33:52.530639Z",
     "iopub.status.idle": "2024-06-14T00:33:52.598299Z",
     "shell.execute_reply": "2024-06-14T00:33:52.598299Z"
    }
   },
   "outputs": [],
   "source": [
    "base_original['Marca'] = np.select(conditions, values, default='No Outlier')"
   ]
  },
  {
   "cell_type": "code",
   "execution_count": 18,
   "metadata": {
    "execution": {
     "iopub.execute_input": "2024-06-14T00:33:52.600304Z",
     "iopub.status.busy": "2024-06-14T00:33:52.600304Z",
     "iopub.status.idle": "2024-06-14T00:33:52.629772Z",
     "shell.execute_reply": "2024-06-14T00:33:52.629772Z"
    }
   },
   "outputs": [
    {
     "data": {
      "text/plain": [
       "Marca\n",
       "No Outlier            559567\n",
       "Otro outlier           35362\n",
       "Outlier importante      5489\n",
       "Outlier urgente          355\n",
       "Name: count, dtype: int64"
      ]
     },
     "execution_count": 18,
     "metadata": {},
     "output_type": "execute_result"
    }
   ],
   "source": [
    "category_counts = base_original['Marca'].value_counts()\n",
    "category_counts"
   ]
  },
  {
   "cell_type": "code",
   "execution_count": 19,
   "metadata": {
    "execution": {
     "iopub.execute_input": "2024-06-14T00:33:52.632786Z",
     "iopub.status.busy": "2024-06-14T00:33:52.632786Z",
     "iopub.status.idle": "2024-06-14T00:33:52.757232Z",
     "shell.execute_reply": "2024-06-14T00:33:52.756225Z"
    }
   },
   "outputs": [
    {
     "data": {
      "image/png": "[encoded data removed]",
      "text/plain": [
       "<Figure size 800x800 with 1 Axes>"
      ]
     },
     "metadata": {},
     "output_type": "display_data"
    }
   ],
   "source": [
    "\n",
    "# Filtrar los datos para excluir la categoría 'No Outlier'\n",
    "filtered_df = base_original[base_original['Marca'] != 'No Outlier']\n",
    "\n",
    "# Contar la frecuencia de cada categoría en la columna 'marcación'\n",
    "category_counts = filtered_df['Marca'].value_counts()\n",
    "\n",
    "# Crear las etiquetas que muestren el porcentaje y el número absoluto\n",
    "labels = [f'{cat} ({count})' for cat, count in zip(category_counts.index, category_counts.values)]\n",
    "\n",
    "# Crear el gráfico de pastel\n",
    "plt.figure(figsize=(8, 8))\n",
    "plt.pie(category_counts, labels=labels, autopct='%1.1f%%', colors=sns.color_palette(\"viridis\", len(category_counts)))\n",
    "plt.title('Distribución de Marcación (Excluyendo \"No Outlier\")')\n",
    "plt.show()\n"
   ]
  },
  {
   "cell_type": "code",
   "execution_count": 21,
   "metadata": {
    "execution": {
     "iopub.execute_input": "2024-06-14T00:33:52.760241Z",
     "iopub.status.busy": "2024-06-14T00:33:52.760241Z",
     "iopub.status.idle": "2024-06-14T00:33:52.887961Z",
     "shell.execute_reply": "2024-06-14T00:33:52.887961Z"
    }
   },
   "outputs": [
    {
     "data": {
      "text/html": [
       "<div>\n",
       "<style scoped>\n",
       "    .dataframe tbody tr th:only-of-type {\n",
       "        vertical-align: middle;\n",
       "    }\n",
       "\n",
       "    .dataframe tbody tr th {\n",
       "        vertical-align: top;\n",
       "    }\n",
       "\n",
       "    .dataframe thead th {\n",
       "        text-align: right;\n",
       "    }\n",
       "</style>\n",
       "<table border=\"1\" class=\"dataframe\">\n",
       "  <thead>\n",
       "    <tr style=\"text-align: right;\">\n",
       "      <th>Marca</th>\n",
       "      <th>No Outlier</th>\n",
       "      <th>Otro outlier</th>\n",
       "      <th>Outlier importante</th>\n",
       "      <th>Outlier urgente</th>\n",
       "    </tr>\n",
       "    <tr>\n",
       "      <th>nivel_1_cuenta</th>\n",
       "      <th></th>\n",
       "      <th></th>\n",
       "      <th></th>\n",
       "      <th></th>\n",
       "    </tr>\n",
       "  </thead>\n",
       "  <tbody>\n",
       "    <tr>\n",
       "      <th>Actividades En Oper. Conjuntas</th>\n",
       "      <td>164</td>\n",
       "      <td>0</td>\n",
       "      <td>0</td>\n",
       "      <td>0</td>\n",
       "    </tr>\n",
       "    <tr>\n",
       "      <th>Actividades Fiduciarias</th>\n",
       "      <td>502</td>\n",
       "      <td>5</td>\n",
       "      <td>13</td>\n",
       "      <td>0</td>\n",
       "    </tr>\n",
       "    <tr>\n",
       "      <th>Adecuación E Instalación</th>\n",
       "      <td>12264</td>\n",
       "      <td>72</td>\n",
       "      <td>75</td>\n",
       "      <td>0</td>\n",
       "    </tr>\n",
       "    <tr>\n",
       "      <th>Aportes A La Seguridad Social</th>\n",
       "      <td>35872</td>\n",
       "      <td>422</td>\n",
       "      <td>382</td>\n",
       "      <td>3</td>\n",
       "    </tr>\n",
       "    <tr>\n",
       "      <th>Arrendamientos</th>\n",
       "      <td>10248</td>\n",
       "      <td>53</td>\n",
       "      <td>64</td>\n",
       "      <td>0</td>\n",
       "    </tr>\n",
       "    <tr>\n",
       "      <th>Asesoría Financiera</th>\n",
       "      <td>6</td>\n",
       "      <td>0</td>\n",
       "      <td>0</td>\n",
       "      <td>0</td>\n",
       "    </tr>\n",
       "    <tr>\n",
       "      <th>Asesoría Jurídica</th>\n",
       "      <td>416</td>\n",
       "      <td>9</td>\n",
       "      <td>1</td>\n",
       "      <td>0</td>\n",
       "    </tr>\n",
       "    <tr>\n",
       "      <th>Bonificaciones</th>\n",
       "      <td>3642</td>\n",
       "      <td>4</td>\n",
       "      <td>37</td>\n",
       "      <td>0</td>\n",
       "    </tr>\n",
       "    <tr>\n",
       "      <th>Cesantias E Intereses A Las Cesantías</th>\n",
       "      <td>14526</td>\n",
       "      <td>90</td>\n",
       "      <td>151</td>\n",
       "      <td>2</td>\n",
       "    </tr>\n",
       "    <tr>\n",
       "      <th>Contribuciones Y Afiliaciones</th>\n",
       "      <td>204</td>\n",
       "      <td>4</td>\n",
       "      <td>1</td>\n",
       "      <td>0</td>\n",
       "    </tr>\n",
       "    <tr>\n",
       "      <th>Daños  Y Riesgos Operacionales</th>\n",
       "      <td>1816</td>\n",
       "      <td>15</td>\n",
       "      <td>8</td>\n",
       "      <td>0</td>\n",
       "    </tr>\n",
       "    <tr>\n",
       "      <th>Depreciación Y Amortización</th>\n",
       "      <td>978</td>\n",
       "      <td>6</td>\n",
       "      <td>7</td>\n",
       "      <td>0</td>\n",
       "    </tr>\n",
       "    <tr>\n",
       "      <th>Garantías</th>\n",
       "      <td>3746</td>\n",
       "      <td>37</td>\n",
       "      <td>105</td>\n",
       "      <td>1</td>\n",
       "    </tr>\n",
       "    <tr>\n",
       "      <th>Gastos De Representación</th>\n",
       "      <td>154</td>\n",
       "      <td>1</td>\n",
       "      <td>8</td>\n",
       "      <td>0</td>\n",
       "    </tr>\n",
       "    <tr>\n",
       "      <th>Gastos De Viaje</th>\n",
       "      <td>3965</td>\n",
       "      <td>28</td>\n",
       "      <td>56</td>\n",
       "      <td>0</td>\n",
       "    </tr>\n",
       "    <tr>\n",
       "      <th>Gastos Legales</th>\n",
       "      <td>187</td>\n",
       "      <td>4</td>\n",
       "      <td>0</td>\n",
       "      <td>0</td>\n",
       "    </tr>\n",
       "    <tr>\n",
       "      <th>Honorarios Junta Directiva</th>\n",
       "      <td>82</td>\n",
       "      <td>0</td>\n",
       "      <td>1</td>\n",
       "      <td>0</td>\n",
       "    </tr>\n",
       "    <tr>\n",
       "      <th>Honorarios Revisoría Fiscal</th>\n",
       "      <td>20</td>\n",
       "      <td>0</td>\n",
       "      <td>0</td>\n",
       "      <td>0</td>\n",
       "    </tr>\n",
       "    <tr>\n",
       "      <th>Impuestos Y Contribuciones</th>\n",
       "      <td>148258</td>\n",
       "      <td>24</td>\n",
       "      <td>787</td>\n",
       "      <td>0</td>\n",
       "    </tr>\n",
       "    <tr>\n",
       "      <th>Indeminizaciones</th>\n",
       "      <td>167</td>\n",
       "      <td>2</td>\n",
       "      <td>2</td>\n",
       "      <td>0</td>\n",
       "    </tr>\n",
       "    <tr>\n",
       "      <th>Mantenimiento Y Reparaciones</th>\n",
       "      <td>35838</td>\n",
       "      <td>13</td>\n",
       "      <td>380</td>\n",
       "      <td>0</td>\n",
       "    </tr>\n",
       "    <tr>\n",
       "      <th>Multas Y Sanciones</th>\n",
       "      <td>665</td>\n",
       "      <td>3</td>\n",
       "      <td>17</td>\n",
       "      <td>0</td>\n",
       "    </tr>\n",
       "    <tr>\n",
       "      <th>Otros</th>\n",
       "      <td>31820</td>\n",
       "      <td>21</td>\n",
       "      <td>461</td>\n",
       "      <td>0</td>\n",
       "    </tr>\n",
       "    <tr>\n",
       "      <th>Pensiones De Jubilación</th>\n",
       "      <td>3</td>\n",
       "      <td>0</td>\n",
       "      <td>0</td>\n",
       "      <td>0</td>\n",
       "    </tr>\n",
       "    <tr>\n",
       "      <th>Prima De Antiguedad</th>\n",
       "      <td>29</td>\n",
       "      <td>0</td>\n",
       "      <td>1</td>\n",
       "      <td>0</td>\n",
       "    </tr>\n",
       "    <tr>\n",
       "      <th>Prima Legal Y Extralegal</th>\n",
       "      <td>14446</td>\n",
       "      <td>126</td>\n",
       "      <td>112</td>\n",
       "      <td>1</td>\n",
       "    </tr>\n",
       "    <tr>\n",
       "      <th>Procesamiento De Datos</th>\n",
       "      <td>467</td>\n",
       "      <td>2</td>\n",
       "      <td>7</td>\n",
       "      <td>0</td>\n",
       "    </tr>\n",
       "    <tr>\n",
       "      <th>Publicaciones Y Suscripciones</th>\n",
       "      <td>60</td>\n",
       "      <td>0</td>\n",
       "      <td>1</td>\n",
       "      <td>0</td>\n",
       "    </tr>\n",
       "    <tr>\n",
       "      <th>Publicidad</th>\n",
       "      <td>799</td>\n",
       "      <td>20</td>\n",
       "      <td>4</td>\n",
       "      <td>0</td>\n",
       "    </tr>\n",
       "    <tr>\n",
       "      <th>Riesgo Operativo</th>\n",
       "      <td>1219</td>\n",
       "      <td>12</td>\n",
       "      <td>19</td>\n",
       "      <td>0</td>\n",
       "    </tr>\n",
       "    <tr>\n",
       "      <th>Salarios</th>\n",
       "      <td>12733</td>\n",
       "      <td>122</td>\n",
       "      <td>204</td>\n",
       "      <td>2</td>\n",
       "    </tr>\n",
       "    <tr>\n",
       "      <th>Seguros</th>\n",
       "      <td>113</td>\n",
       "      <td>3</td>\n",
       "      <td>3</td>\n",
       "      <td>0</td>\n",
       "    </tr>\n",
       "    <tr>\n",
       "      <th>Servicios De Aseo Y Vigilancia</th>\n",
       "      <td>37931</td>\n",
       "      <td>55</td>\n",
       "      <td>324</td>\n",
       "      <td>2</td>\n",
       "    </tr>\n",
       "    <tr>\n",
       "      <th>Servicios Publicos</th>\n",
       "      <td>4981</td>\n",
       "      <td>22</td>\n",
       "      <td>148</td>\n",
       "      <td>1</td>\n",
       "    </tr>\n",
       "    <tr>\n",
       "      <th>Servicios Temporales</th>\n",
       "      <td>589</td>\n",
       "      <td>17</td>\n",
       "      <td>2</td>\n",
       "      <td>0</td>\n",
       "    </tr>\n",
       "    <tr>\n",
       "      <th>Transporte</th>\n",
       "      <td>17492</td>\n",
       "      <td>67</td>\n",
       "      <td>275</td>\n",
       "      <td>1</td>\n",
       "    </tr>\n",
       "    <tr>\n",
       "      <th>Utiles Y Papeleria</th>\n",
       "      <td>433</td>\n",
       "      <td>29537</td>\n",
       "      <td>4</td>\n",
       "      <td>279</td>\n",
       "    </tr>\n",
       "    <tr>\n",
       "      <th>Vacaciones Legales Y Extralegales</th>\n",
       "      <td>14836</td>\n",
       "      <td>148</td>\n",
       "      <td>210</td>\n",
       "      <td>4</td>\n",
       "    </tr>\n",
       "    <tr>\n",
       "      <th>Adecuación E Instalación Otras</th>\n",
       "      <td>3</td>\n",
       "      <td>0</td>\n",
       "      <td>0</td>\n",
       "      <td>0</td>\n",
       "    </tr>\n",
       "    <tr>\n",
       "      <th>Depreciación Y Amortización</th>\n",
       "      <td>4</td>\n",
       "      <td>0</td>\n",
       "      <td>0</td>\n",
       "      <td>0</td>\n",
       "    </tr>\n",
       "    <tr>\n",
       "      <th>Deterioro En El Valor De Otros Activos</th>\n",
       "      <td>18</td>\n",
       "      <td>0</td>\n",
       "      <td>0</td>\n",
       "      <td>0</td>\n",
       "    </tr>\n",
       "    <tr>\n",
       "      <th>Diversos Otros</th>\n",
       "      <td>63587</td>\n",
       "      <td>152</td>\n",
       "      <td>678</td>\n",
       "      <td>1</td>\n",
       "    </tr>\n",
       "    <tr>\n",
       "      <th>Efectivo Y Canje</th>\n",
       "      <td>11</td>\n",
       "      <td>0</td>\n",
       "      <td>0</td>\n",
       "      <td>0</td>\n",
       "    </tr>\n",
       "    <tr>\n",
       "      <th>Gastos Legales</th>\n",
       "      <td>50</td>\n",
       "      <td>0</td>\n",
       "      <td>0</td>\n",
       "      <td>0</td>\n",
       "    </tr>\n",
       "    <tr>\n",
       "      <th>Honorarios Avaluos</th>\n",
       "      <td>45</td>\n",
       "      <td>0</td>\n",
       "      <td>3</td>\n",
       "      <td>0</td>\n",
       "    </tr>\n",
       "    <tr>\n",
       "      <th>Honorarios Otros</th>\n",
       "      <td>220</td>\n",
       "      <td>4010</td>\n",
       "      <td>0</td>\n",
       "      <td>48</td>\n",
       "    </tr>\n",
       "    <tr>\n",
       "      <th>Honorarios Riesgo Operativo</th>\n",
       "      <td>151</td>\n",
       "      <td>5</td>\n",
       "      <td>1</td>\n",
       "      <td>0</td>\n",
       "    </tr>\n",
       "    <tr>\n",
       "      <th>Licencias De Software</th>\n",
       "      <td>52</td>\n",
       "      <td>251</td>\n",
       "      <td>3</td>\n",
       "      <td>10</td>\n",
       "    </tr>\n",
       "    <tr>\n",
       "      <th>Negocios Fiduciarios</th>\n",
       "      <td>13</td>\n",
       "      <td>0</td>\n",
       "      <td>0</td>\n",
       "      <td>0</td>\n",
       "    </tr>\n",
       "    <tr>\n",
       "      <th>Otros Beneficios Empleados</th>\n",
       "      <td>1</td>\n",
       "      <td>0</td>\n",
       "      <td>0</td>\n",
       "      <td>0</td>\n",
       "    </tr>\n",
       "    <tr>\n",
       "      <th>Riesgo Operativo</th>\n",
       "      <td>32</td>\n",
       "      <td>0</td>\n",
       "      <td>1</td>\n",
       "      <td>0</td>\n",
       "    </tr>\n",
       "  </tbody>\n",
       "</table>\n",
       "</div>"
      ],
      "text/plain": [
       "Marca                                   No Outlier  Otro outlier  \\\n",
       "nivel_1_cuenta                                                     \n",
       " Actividades En Oper. Conjuntas                164             0   \n",
       " Actividades Fiduciarias                       502             5   \n",
       " Adecuación E Instalación                    12264            72   \n",
       " Aportes A La Seguridad Social               35872           422   \n",
       " Arrendamientos                              10248            53   \n",
       " Asesoría Financiera                             6             0   \n",
       " Asesoría Jurídica                             416             9   \n",
       " Bonificaciones                               3642             4   \n",
       " Cesantias E Intereses A Las Cesantías       14526            90   \n",
       " Contribuciones Y Afiliaciones                 204             4   \n",
       " Daños  Y Riesgos Operacionales               1816            15   \n",
       " Depreciación Y Amortización                   978             6   \n",
       " Garantías                                    3746            37   \n",
       " Gastos De Representación                      154             1   \n",
       " Gastos De Viaje                              3965            28   \n",
       " Gastos Legales                                187             4   \n",
       " Honorarios Junta Directiva                     82             0   \n",
       " Honorarios Revisoría Fiscal                    20             0   \n",
       " Impuestos Y Contribuciones                 148258            24   \n",
       " Indeminizaciones                              167             2   \n",
       " Mantenimiento Y Reparaciones                35838            13   \n",
       " Multas Y Sanciones                            665             3   \n",
       " Otros                                       31820            21   \n",
       " Pensiones De Jubilación                         3             0   \n",
       " Prima De Antiguedad                            29             0   \n",
       " Prima Legal Y Extralegal                    14446           126   \n",
       " Procesamiento De Datos                        467             2   \n",
       " Publicaciones Y Suscripciones                  60             0   \n",
       " Publicidad                                    799            20   \n",
       " Riesgo Operativo                             1219            12   \n",
       " Salarios                                    12733           122   \n",
       " Seguros                                       113             3   \n",
       " Servicios De Aseo Y Vigilancia              37931            55   \n",
       " Servicios Publicos                           4981            22   \n",
       " Servicios Temporales                          589            17   \n",
       " Transporte                                  17492            67   \n",
       " Utiles Y Papeleria                            433         29537   \n",
       " Vacaciones Legales Y Extralegales           14836           148   \n",
       "Adecuación E Instalación Otras                   3             0   \n",
       "Depreciación Y Amortización                      4             0   \n",
       "Deterioro En El Valor De Otros Activos          18             0   \n",
       "Diversos Otros                               63587           152   \n",
       "Efectivo Y Canje                                11             0   \n",
       "Gastos Legales                                  50             0   \n",
       "Honorarios Avaluos                              45             0   \n",
       "Honorarios Otros                               220          4010   \n",
       "Honorarios Riesgo Operativo                    151             5   \n",
       "Licencias De Software                           52           251   \n",
       "Negocios Fiduciarios                            13             0   \n",
       "Otros Beneficios Empleados                       1             0   \n",
       "Riesgo Operativo                                32             0   \n",
       "\n",
       "Marca                                   Outlier importante  Outlier urgente  \n",
       "nivel_1_cuenta                                                               \n",
       " Actividades En Oper. Conjuntas                          0                0  \n",
       " Actividades Fiduciarias                                13                0  \n",
       " Adecuación E Instalación                               75                0  \n",
       " Aportes A La Seguridad Social                         382                3  \n",
       " Arrendamientos                                         64                0  \n",
       " Asesoría Financiera                                     0                0  \n",
       " Asesoría Jurídica                                       1                0  \n",
       " Bonificaciones                                         37                0  \n",
       " Cesantias E Intereses A Las Cesantías                 151                2  \n",
       " Contribuciones Y Afiliaciones                           1                0  \n",
       " Daños  Y Riesgos Operacionales                          8                0  \n",
       " Depreciación Y Amortización                             7                0  \n",
       " Garantías                                             105                1  \n",
       " Gastos De Representación                                8                0  \n",
       " Gastos De Viaje                                        56                0  \n",
       " Gastos Legales                                          0                0  \n",
       " Honorarios Junta Directiva                              1                0  \n",
       " Honorarios Revisoría Fiscal                             0                0  \n",
       " Impuestos Y Contribuciones                            787                0  \n",
       " Indeminizaciones                                        2                0  \n",
       " Mantenimiento Y Reparaciones                          380                0  \n",
       " Multas Y Sanciones                                     17                0  \n",
       " Otros                                                 461                0  \n",
       " Pensiones De Jubilación                                 0                0  \n",
       " Prima De Antiguedad                                     1                0  \n",
       " Prima Legal Y Extralegal                              112                1  \n",
       " Procesamiento De Datos                                  7                0  \n",
       " Publicaciones Y Suscripciones                           1                0  \n",
       " Publicidad                                              4                0  \n",
       " Riesgo Operativo                                       19                0  \n",
       " Salarios                                              204                2  \n",
       " Seguros                                                 3                0  \n",
       " Servicios De Aseo Y Vigilancia                        324                2  \n",
       " Servicios Publicos                                    148                1  \n",
       " Servicios Temporales                                    2                0  \n",
       " Transporte                                            275                1  \n",
       " Utiles Y Papeleria                                      4              279  \n",
       " Vacaciones Legales Y Extralegales                     210                4  \n",
       "Adecuación E Instalación Otras                           0                0  \n",
       "Depreciación Y Amortización                              0                0  \n",
       "Deterioro En El Valor De Otros Activos                   0                0  \n",
       "Diversos Otros                                         678                1  \n",
       "Efectivo Y Canje                                         0                0  \n",
       "Gastos Legales                                           0                0  \n",
       "Honorarios Avaluos                                       3                0  \n",
       "Honorarios Otros                                         0               48  \n",
       "Honorarios Riesgo Operativo                              1                0  \n",
       "Licencias De Software                                    3               10  \n",
       "Negocios Fiduciarios                                     0                0  \n",
       "Otros Beneficios Empleados                               0                0  \n",
       "Riesgo Operativo                                         1                0  "
      ]
     },
     "execution_count": 21,
     "metadata": {},
     "output_type": "execute_result"
    }
   ],
   "source": [
    "# Crear una tabla de frecuencia cruzada para contar las categorías por 'nivel_1_cuenta' y 'marcación'\n",
    "counts = pd.crosstab(base_original['nivel_1_cuenta'], base_original['Marca'])\n",
    "counts"
   ]
  },
  {
   "cell_type": "code",
   "execution_count": 23,
   "metadata": {
    "execution": {
     "iopub.execute_input": "2024-06-14T00:33:52.890968Z",
     "iopub.status.busy": "2024-06-14T00:33:52.890968Z",
     "iopub.status.idle": "2024-06-14T00:33:53.205374Z",
     "shell.execute_reply": "2024-06-14T00:33:53.205016Z"
    }
   },
   "outputs": [
    {
     "data": {
      "image/png": "[encoded data removed]",
      "text/plain": [
       "<Figure size 1200x800 with 1 Axes>"
      ]
     },
     "metadata": {},
     "output_type": "display_data"
    }
   ],
   "source": [
    "# Crear una tabla de frecuencia cruzada para contar las categorías por 'nivel_1_cuenta' y 'marcación'\n",
    "counts = pd.crosstab(base_original['nivel_1_cuenta'], base_original['Marca'])\n",
    "\n",
    "# Filtrar para obtener solo los nivel_1_cuenta que tienen todas las marcaciones con valores mayores que 0\n",
    "required_categories = ['No Outlier', 'Otro outlier', 'Outlier importante', 'Outlier urgente']\n",
    "filtered_counts = counts.loc[(counts[required_categories] > 0).all(axis=1)]\n",
    "\n",
    "# Ordenar los datos por la suma de las filas y seleccionar los primeros 10\n",
    "top_counts = filtered_counts.sum(axis=1).nlargest(10).index\n",
    "top_counts = filtered_counts.loc[top_counts]\n",
    "\n",
    "# Definir los colores para las categorías\n",
    "colors = {\n",
    "    'No Outlier': 'skyblue',\n",
    "    'Otro outlier': 'yellow',\n",
    "    'Outlier importante': 'orange',\n",
    "    'Outlier urgente': 'red'\n",
    "}\n",
    "\n",
    "# Crear el gráfico de barras apiladas\n",
    "top_counts.plot(kind='bar', stacked=True, figsize=(12, 8), color=[colors[col] for col in top_counts.columns])\n",
    "\n",
    "# Añadir títulos y etiquetas\n",
    "plt.title('Cantidad por Nivel 1 Cuenta y Marcación (Top 10)')\n",
    "plt.xlabel('Nivel 1 Cuenta')\n",
    "plt.ylabel('Cantidad')\n",
    "plt.legend(title='Marcación')\n",
    "plt.xticks(rotation=45)\n",
    "\n",
    "plt.show()"
   ]
  },
  {
   "cell_type": "code",
   "execution_count": 24,
   "metadata": {
    "execution": {
     "iopub.execute_input": "2024-06-14T00:33:53.207382Z",
     "iopub.status.busy": "2024-06-14T00:33:53.207382Z",
     "iopub.status.idle": "2024-06-14T00:34:00.835514Z",
     "shell.execute_reply": "2024-06-14T00:34:00.835309Z"
    }
   },
   "outputs": [],
   "source": [
    "result_final = base_original.to_csv('Base_completa_marcaciones.csv')"
   ]
  }
 ],
 "metadata": {
  "kernelspec": {
   "display_name": "venv_almacen_eafit",
   "language": "python",
   "name": "python3"
  },
  "language_info": {
   "codemirror_mode": {
    "name": "ipython",
    "version": 3
   },
   "file_extension": ".py",
   "mimetype": "text/x-python",
   "name": "python",
   "nbconvert_exporter": "python",
   "pygments_lexer": "ipython3",
   "version": "3.11.7"
  }
 },
 "nbformat": 4,
 "nbformat_minor": 2
}
