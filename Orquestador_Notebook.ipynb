{
 "cells": [
  {
   "cell_type": "markdown",
   "metadata": {},
   "source": [
    "# Orquestador"
   ]
  },
  {
   "cell_type": "code",
   "execution_count": 5,
   "metadata": {},
   "outputs": [],
   "source": [
    "import nbformat\n",
    "from nbconvert.preprocessors import ExecutePreprocessor"
   ]
  },
  {
   "cell_type": "code",
   "execution_count": 6,
   "metadata": {},
   "outputs": [],
   "source": [
    "def run_notebook(path):\n",
    "    with open(path, encoding='utf-8') as f:\n",
    "        print(\"==========================================================================\")\n",
    "        print(\"=========================Ejecutando \"+str(path)+\"=========================\")\n",
    "        nb = nbformat.read(f, as_version=4)\n",
    "    \n",
    "    ep = ExecutePreprocessor(kernel_name='python3')\n",
    "    ep.preprocess(nb, {'metadata': {'path': './'}})\n",
    "    \n",
    "    with open(path, 'w', encoding='utf-8') as f:\n",
    "        nbformat.write(nb, f)\n",
    "\n",
    "        # Imprimir las salidas de las celdas\n",
    "    for cell in nb['cells']:\n",
    "        if 'outputs' in cell:\n",
    "            for output in cell['outputs']:\n",
    "                if output.output_type == 'stream':\n",
    "                    print(output.text)\n",
    "        print(\"=========================Finaliza \"+str(path)+\"=========================\")"
   ]
  },
  {
   "cell_type": "code",
   "execution_count": 8,
   "metadata": {},
   "outputs": [
    {
     "name": "stdout",
     "output_type": "stream",
     "text": [
      "==========================================================================\n",
      "=========================Ejecutando Consolidacion_Modelos.ipynb=========================\n",
      "=========================Finaliza Consolidacion_Modelos.ipynb=========================\n",
      "=========================Finaliza Consolidacion_Modelos.ipynb=========================\n",
      "=========================Finaliza Consolidacion_Modelos.ipynb=========================\n",
      "=========================Finaliza Consolidacion_Modelos.ipynb=========================\n",
      "=========================Finaliza Consolidacion_Modelos.ipynb=========================\n",
      "=========================Finaliza Consolidacion_Modelos.ipynb=========================\n",
      "=========================Finaliza Consolidacion_Modelos.ipynb=========================\n",
      "=========================Finaliza Consolidacion_Modelos.ipynb=========================\n",
      "=========================Finaliza Consolidacion_Modelos.ipynb=========================\n",
      "=========================Finaliza Consolidacion_Modelos.ipynb=========================\n",
      "=========================Finaliza Consolidacion_Modelos.ipynb=========================\n",
      "=========================Finaliza Consolidacion_Modelos.ipynb=========================\n",
      "=========================Finaliza Consolidacion_Modelos.ipynb=========================\n",
      "=========================Finaliza Consolidacion_Modelos.ipynb=========================\n",
      "=========================Finaliza Consolidacion_Modelos.ipynb=========================\n",
      "=========================Finaliza Consolidacion_Modelos.ipynb=========================\n"
     ]
    }
   ],
   "source": [
    "# Ejecutar el primer notebook\n",
    "run_notebook('Modelo_Distancias.ipynb')\n",
    "\n",
    "# Ejecutar el segundo notebook\n",
    "run_notebook('Modelos_LR_KNN.ipynb')\n",
    "\n",
    "# Ejecutar el tercer notebook\n",
    "run_notebook('Consolidacion_Modelos.ipynb')"
   ]
  }
 ],
 "metadata": {
  "kernelspec": {
   "display_name": "venv_almacen_eafit",
   "language": "python",
   "name": "python3"
  },
  "language_info": {
   "codemirror_mode": {
    "name": "ipython",
    "version": 3
   },
   "file_extension": ".py",
   "mimetype": "text/x-python",
   "name": "python",
   "nbconvert_exporter": "python",
   "pygments_lexer": "ipython3",
   "version": "3.11.7"
  }
 },
 "nbformat": 4,
 "nbformat_minor": 2
}
